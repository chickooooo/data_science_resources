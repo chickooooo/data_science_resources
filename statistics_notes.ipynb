{
 "cells": [
  {
   "cell_type": "markdown",
   "metadata": {},
   "source": [
    "<h2>Probability</h2>"
   ]
  },
  {
   "cell_type": "markdown",
   "metadata": {},
   "source": [
    "- probability is a branch of mathematics that allows us to quantify uncertainty\n",
    "- an experiment is something that produces observation(s) with some level of uncertainty\n",
    "- a sample point is a single possible outcome of an experiment\n",
    "- a sample space is the set of all possible sample points for an experiment"
   ]
  },
  {
   "cell_type": "markdown",
   "metadata": {},
   "source": [
    "<b>Law of large numbers:</b>\n",
    "<br>\n",
    "<br>\n",
    "If an experiment is carried out long enough, the observed proportion of times each event occurs will converge to its true probability"
   ]
  },
  {
   "cell_type": "markdown",
   "metadata": {},
   "source": []
  }
 ],
 "metadata": {
  "language_info": {
   "name": "python"
  },
  "orig_nbformat": 4
 },
 "nbformat": 4,
 "nbformat_minor": 2
}

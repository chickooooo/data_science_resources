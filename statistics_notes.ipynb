{
 "cells": [
  {
   "cell_type": "code",
   "execution_count": 1,
   "metadata": {},
   "outputs": [],
   "source": [
    "import numpy as np\n",
    "import scipy.stats as stats"
   ]
  },
  {
   "cell_type": "markdown",
   "metadata": {},
   "source": [
    "<h2>Probability</h2>"
   ]
  },
  {
   "cell_type": "markdown",
   "metadata": {},
   "source": [
    "- probability is a branch of mathematics that allows us to quantify uncertainty\n",
    "- an experiment is something that produces observation(s) with some level of uncertainty\n",
    "- a sample point is a single possible outcome of an experiment\n",
    "- a sample space is the set of all possible sample points for an experiment"
   ]
  },
  {
   "cell_type": "markdown",
   "metadata": {},
   "source": [
    "<b>Law of large numbers:</b>\n",
    "<br>\n",
    "<br>\n",
    "If an experiment is carried out long enough, the observed proportion of times each event occurs will converge to its true probability"
   ]
  },
  {
   "cell_type": "markdown",
   "metadata": {},
   "source": [
    "<b>Set Operations:</b>\n",
    "- union\n",
    "- intersection\n",
    "- complement"
   ]
  },
  {
   "cell_type": "markdown",
   "metadata": {},
   "source": [
    "<b>Types of events:</b>\n",
    "- independent event\n",
    "- dependent event"
   ]
  },
  {
   "cell_type": "markdown",
   "metadata": {},
   "source": [
    "<b>Mutually Exclusive Event:</b> events that cannot occur at the same time"
   ]
  },
  {
   "cell_type": "markdown",
   "metadata": {},
   "source": [
    "<b>Addition Rule:</b>\n",
    "<br>\n",
    "<br>\n",
    "P(A or B) = P(A) + P(B) - P(A and B)"
   ]
  },
  {
   "cell_type": "markdown",
   "metadata": {},
   "source": [
    "<b>Conditional Probability:</b>  the probability of one event occurring, given that another one has already occurred\n",
    "<br>\n",
    "<br>\n",
    "For independent events,\n",
    "<br>\n",
    "P(A | B) = P(A)\n",
    "<br>\n",
    "P(B | A) = P(B) "
   ]
  },
  {
   "cell_type": "markdown",
   "metadata": {},
   "source": [
    "<b>Multiplication Rule:</b>\n",
    "<br>\n",
    "<br>\n",
    "P(A and B) = P(A) . P(B | A)"
   ]
  },
  {
   "cell_type": "markdown",
   "metadata": {},
   "source": [
    "<b>Bayes' Theorem:</b>\n",
    "<br>\n",
    "<br>\n",
    "P(B | A) = ( P(A | B) . P(B) ) / P(A)"
   ]
  },
  {
   "cell_type": "markdown",
   "metadata": {},
   "source": [
    "<h2>Probability Distributions</h2>"
   ]
  },
  {
   "cell_type": "code",
   "execution_count": 4,
   "metadata": {},
   "outputs": [
    {
     "data": {
      "text/plain": [
       "array([5, 3])"
      ]
     },
     "execution_count": 4,
     "metadata": {},
     "output_type": "execute_result"
    }
   ],
   "source": [
    "# random outcome of a dice rolled twice\n",
    "np.random.choice(a=range(1, 6), size=2, replace=True)"
   ]
  },
  {
   "cell_type": "code",
   "execution_count": 2,
   "metadata": {},
   "outputs": [
    {
     "data": {
      "text/plain": [
       "0.2050781249999999"
      ]
     },
     "execution_count": 2,
     "metadata": {},
     "output_type": "execute_result"
    }
   ],
   "source": [
    "# probability of observing 6 heads when a coin is tossed 10 times is\n",
    "stats.binom.pmf(6, 10, 0.5)"
   ]
  }
 ],
 "metadata": {
  "kernelspec": {
   "display_name": "Python 3.9.12 ('base')",
   "language": "python",
   "name": "python3"
  },
  "language_info": {
   "codemirror_mode": {
    "name": "ipython",
    "version": 3
   },
   "file_extension": ".py",
   "mimetype": "text/x-python",
   "name": "python",
   "nbconvert_exporter": "python",
   "pygments_lexer": "ipython3",
   "version": "3.9.12"
  },
  "orig_nbformat": 4,
  "vscode": {
   "interpreter": {
    "hash": "b647a98f5a771bef6128177185896650a5eaba3992f263c2977efddc3ac935a8"
   }
  }
 },
 "nbformat": 4,
 "nbformat_minor": 2
}
